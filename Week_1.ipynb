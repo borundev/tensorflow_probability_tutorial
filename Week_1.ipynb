{
  "nbformat": 4,
  "nbformat_minor": 5,
  "metadata": {
    "kernelspec": {
      "display_name": "Tensorflow",
      "language": "python",
      "name": "python3"
    },
    "language_info": {
      "codemirror_mode": {
        "name": "ipython",
        "version": 3
      },
      "file_extension": ".py",
      "mimetype": "text/x-python",
      "name": "python",
      "nbconvert_exporter": "python",
      "pygments_lexer": "ipython3",
      "version": "3.8.5"
    },
    "colab": {
      "name": "Week 1.ipynb",
      "provenance": [],
      "include_colab_link": true
    }
  },
  "cells": [
    {
      "cell_type": "markdown",
      "metadata": {
        "id": "view-in-github",
        "colab_type": "text"
      },
      "source": [
        "<a href=\"https://colab.research.google.com/github/borundev/tensorflow_probability_tutorial/blob/main/Week_1.ipynb\" target=\"_parent\"><img src=\"https://colab.research.google.com/assets/colab-badge.svg\" alt=\"Open In Colab\"/></a>"
      ]
    },
    {
      "cell_type": "code",
      "metadata": {
        "id": "altered-broadway"
      },
      "source": [
        "import tensorflow as tf\n",
        "import tensorflow_probability as tfp\n",
        "import numpy as np\n",
        "import matplotlib.pyplot as plt\n",
        "tfd=tfp.distributions"
      ],
      "id": "altered-broadway",
      "execution_count": 1,
      "outputs": []
    },
    {
      "cell_type": "code",
      "metadata": {
        "id": "unsigned-renaissance"
      },
      "source": [
        "from sklearn.feature_extraction.text import CountVectorizer\n",
        "from sklearn.naive_bayes import BernoulliNB\n",
        "from sklearn.metrics import f1_score"
      ],
      "id": "unsigned-renaissance",
      "execution_count": 2,
      "outputs": []
    },
    {
      "cell_type": "code",
      "metadata": {
        "id": "embedded-location"
      },
      "source": [
        "from sklearn.datasets import fetch_20newsgroups"
      ],
      "id": "embedded-location",
      "execution_count": 3,
      "outputs": []
    },
    {
      "cell_type": "code",
      "metadata": {
        "id": "brilliant-finnish"
      },
      "source": [
        "def get_data(categories):\n",
        "    train_data = fetch_20newsgroups(data_home='20_NewsgroupsData',subset='train',categories=categories)\n",
        "    test_data = fetch_20newsgroups(data_home='20_NewsgroupsData',subset='test',categories=categories)\n",
        "    \n",
        "    n_documents = len(train_data['data'])\n",
        "    count_vectorizer = CountVectorizer(input='content',binary=True,max_df=.25,min_df =1.01/n_documents)\n",
        "    \n",
        "    train_bow = count_vectorizer.fit_transform(train_data['data'])\n",
        "    test_bow = count_vectorizer.transform(test_data['data'])\n",
        "    return (train_bow.todense(),train_data['target']),(test_bow.todense(),test_data['target'])"
      ],
      "id": "brilliant-finnish",
      "execution_count": 4,
      "outputs": []
    },
    {
      "cell_type": "code",
      "metadata": {
        "id": "confused-lincoln"
      },
      "source": [
        "categories = ['alt.atheism', 'talk.religion.misc','comp.graphics','sci.space']"
      ],
      "id": "confused-lincoln",
      "execution_count": 5,
      "outputs": []
    },
    {
      "cell_type": "code",
      "metadata": {
        "colab": {
          "base_uri": "https://localhost:8080/"
        },
        "id": "million-fence",
        "outputId": "7776dd83-3522-4a1a-8040-925837594489"
      },
      "source": [
        "(train_data,train_labels),(test_data,test_labels)=get_data(categories)"
      ],
      "id": "million-fence",
      "execution_count": 6,
      "outputs": [
        {
          "output_type": "stream",
          "text": [
            "Downloading 20news dataset. This may take a few minutes.\n",
            "Downloading dataset from https://ndownloader.figshare.com/files/5975967 (14 MB)\n"
          ],
          "name": "stderr"
        }
      ]
    },
    {
      "cell_type": "code",
      "metadata": {
        "colab": {
          "base_uri": "https://localhost:8080/"
        },
        "id": "flush-verification",
        "outputId": "9674c4e4-da59-493d-9100-70198efab214"
      },
      "source": [
        "train_data.shape"
      ],
      "id": "flush-verification",
      "execution_count": 7,
      "outputs": [
        {
          "output_type": "execute_result",
          "data": {
            "text/plain": [
              "(2034, 17495)"
            ]
          },
          "metadata": {
            "tags": []
          },
          "execution_count": 7
        }
      ]
    },
    {
      "cell_type": "code",
      "metadata": {
        "colab": {
          "base_uri": "https://localhost:8080/"
        },
        "id": "attended-highlight",
        "outputId": "28fa13c5-9002-49e1-f57e-4d7ec88adfcd"
      },
      "source": [
        "train_labels"
      ],
      "id": "attended-highlight",
      "execution_count": 8,
      "outputs": [
        {
          "output_type": "execute_result",
          "data": {
            "text/plain": [
              "array([1, 3, 2, ..., 1, 0, 1])"
            ]
          },
          "metadata": {
            "tags": []
          },
          "execution_count": 8
        }
      ]
    },
    {
      "cell_type": "code",
      "metadata": {
        "id": "devoted-trademark"
      },
      "source": [
        "from collections import Counter\n",
        "count_dict=Counter(train_labels)\n",
        "priors=np.array([count_dict[k] for k in range(len(categories))])\n",
        "priors =priors/ priors.sum()"
      ],
      "id": "devoted-trademark",
      "execution_count": 9,
      "outputs": []
    },
    {
      "cell_type": "code",
      "metadata": {
        "id": "expensive-suite"
      },
      "source": [
        "def laplace_smoothened_mean(labels, binary_data, n_classes):\n",
        "    '''\n",
        "    For each word this gives the laplace smoothened mean per class. So for instance in the absence\n",
        "    of Laplace smoothening the output would be np.stack([train_data[train_labels==i].mean(0) for i in range(n_classes)])\n",
        "    '''\n",
        "    n_words = binary_data.shape[1]\n",
        "    alpha = 1\n",
        "    theta = []\n",
        "    for c_k in range(n_classes):\n",
        "        class_mask = (labels == c_k)\n",
        "        N = class_mask.sum()\n",
        "        theta.append((binary_data[class_mask].sum(0) +alpha)/(N+alpha*2))\n",
        "    return np.stack(theta)\n"
      ],
      "id": "expensive-suite",
      "execution_count": 10,
      "outputs": []
    },
    {
      "cell_type": "code",
      "metadata": {
        "id": "stable-neighbor"
      },
      "source": [
        "smoothed_means = laplace_smoothened_mean(labels=train_labels,binary_data=train_data,n_classes=len(categories))"
      ],
      "id": "stable-neighbor",
      "execution_count": 11,
      "outputs": []
    },
    {
      "cell_type": "code",
      "metadata": {
        "id": "written-article"
      },
      "source": [
        "def make_dist(probs):\n",
        "    batch_of_bernoullis = tfd.Bernoulli(probs=probs)\n",
        "    dist = tfd.Independent(batch_of_bernoullis,reinterpreted_batch_ndims=1)\n",
        "    return dist\n",
        "\n",
        "tf_dist = make_dist(smoothed_means)"
      ],
      "id": "written-article",
      "execution_count": 12,
      "outputs": []
    },
    {
      "cell_type": "code",
      "metadata": {
        "id": "fifty-portuguese"
      },
      "source": [
        "def predict_sample(dist,sample,priors):\n",
        "    cond_probs = dist.log_prob(sample)\n",
        "    joint_likelihood = tf.add(np.log(priors),cond_probs)\n",
        "    norm_factor = tf.math.reduce_logsumexp(joint_likelihood,axis=-1,keepdims=True)\n",
        "    log_prob = joint_likelihood - norm_factor\n",
        "    return log_prob"
      ],
      "id": "fifty-portuguese",
      "execution_count": 16,
      "outputs": []
    },
    {
      "cell_type": "code",
      "metadata": {
        "id": "incorrect-excellence"
      },
      "source": [
        "log_probs = predict_sample(tf_dist,test_data[0],priors)"
      ],
      "id": "incorrect-excellence",
      "execution_count": 17,
      "outputs": []
    },
    {
      "cell_type": "code",
      "metadata": {
        "colab": {
          "base_uri": "https://localhost:8080/"
        },
        "id": "outside-potential",
        "outputId": "2b3042f7-7f4a-4d09-960e-6b219ac4058a"
      },
      "source": [
        "probabilities = []\n",
        "for sample,label in zip(test_data,test_labels):\n",
        "    probabilities.append(tf.exp(predict_sample(tf_dist,sample,priors)))\n",
        "    \n",
        "probabilities = np.asarray(probabilities)\n",
        "predicted_classes = np.argmax(probabilities,axis = -1)\n",
        "f1_score(test_labels,predicted_classes,average='macro')"
      ],
      "id": "outside-potential",
      "execution_count": 18,
      "outputs": [
        {
          "output_type": "execute_result",
          "data": {
            "text/plain": [
              "0.7848499112849504"
            ]
          },
          "metadata": {
            "tags": []
          },
          "execution_count": 18
        }
      ]
    },
    {
      "cell_type": "code",
      "metadata": {
        "colab": {
          "base_uri": "https://localhost:8080/"
        },
        "id": "constant-contrast",
        "outputId": "974b47d7-7422-4b2d-94a0-572d923300ce"
      },
      "source": [
        "clf = BernoulliNB(alpha=1)\n",
        "clf.fit(train_data,train_labels)\n",
        "pred = clf.predict(test_data)\n",
        "f1_score(test_labels,pred,average='macro')"
      ],
      "id": "constant-contrast",
      "execution_count": 19,
      "outputs": [
        {
          "output_type": "execute_result",
          "data": {
            "text/plain": [
              "0.7848499112849504"
            ]
          },
          "metadata": {
            "tags": []
          },
          "execution_count": 19
        }
      ]
    },
    {
      "cell_type": "markdown",
      "metadata": {
        "id": "sized-poland"
      },
      "source": [
        "# Trainable Distributions"
      ],
      "id": "sized-poland"
    },
    {
      "cell_type": "code",
      "metadata": {
        "id": "partial-genesis"
      },
      "source": [
        "exponential = tfd.Exponential(rate=.3,name='exp')"
      ],
      "id": "partial-genesis",
      "execution_count": 20,
      "outputs": []
    },
    {
      "cell_type": "code",
      "metadata": {
        "colab": {
          "base_uri": "https://localhost:8080/",
          "height": 265
        },
        "id": "military-malaysia",
        "outputId": "b23a9620-8a70-405d-e30c-06adab4db840"
      },
      "source": [
        "plt.hist(exponential.sample(50000).numpy(), bins=100,density=True);"
      ],
      "id": "military-malaysia",
      "execution_count": 21,
      "outputs": [
        {
          "output_type": "display_data",
          "data": {
            "image/png": "[encoded data removed]",
            "text/plain": [
              "<Figure size 432x288 with 1 Axes>"
            ]
          },
          "metadata": {
            "tags": [],
            "needs_background": "light"
          }
        }
      ]
    },
    {
      "cell_type": "code",
      "metadata": {
        "id": "bridal-hopkins"
      },
      "source": [
        "exp_train = tfd.Exponential(tf.Variable(1.,name='rate'),name='exp_train')"
      ],
      "id": "bridal-hopkins",
      "execution_count": 22,
      "outputs": []
    },
    {
      "cell_type": "code",
      "metadata": {
        "colab": {
          "base_uri": "https://localhost:8080/",
          "height": 265
        },
        "id": "premium-chambers",
        "outputId": "bf95d501-4494-4255-d93b-3de286f219ae"
      },
      "source": [
        "plt.hist(exp_train.sample(50000).numpy(), bins=100,density=True);"
      ],
      "id": "premium-chambers",
      "execution_count": 23,
      "outputs": [
        {
          "output_type": "display_data",
          "data": {
            "image/png": "[encoded data removed]",
            "text/plain": [
              "<Figure size 432x288 with 1 Axes>"
            ]
          },
          "metadata": {
            "tags": [],
            "needs_background": "light"
          }
        }
      ]
    },
    {
      "cell_type": "code",
      "metadata": {
        "colab": {
          "base_uri": "https://localhost:8080/"
        },
        "id": "promotional-kelly",
        "outputId": "5e7aa4d0-e620-491a-f46a-e43b9eb81bc5"
      },
      "source": [
        "exponential.trainable_variables"
      ],
      "id": "promotional-kelly",
      "execution_count": 24,
      "outputs": [
        {
          "output_type": "execute_result",
          "data": {
            "text/plain": [
              "()"
            ]
          },
          "metadata": {
            "tags": []
          },
          "execution_count": 24
        }
      ]
    },
    {
      "cell_type": "code",
      "metadata": {
        "colab": {
          "base_uri": "https://localhost:8080/"
        },
        "id": "handy-photograph",
        "outputId": "90341fb9-bc8a-48c7-aaa1-78118b9ab323"
      },
      "source": [
        "exp_train.trainable_variables"
      ],
      "id": "handy-photograph",
      "execution_count": 25,
      "outputs": [
        {
          "output_type": "execute_result",
          "data": {
            "text/plain": [
              "(<tf.Variable 'rate:0' shape=() dtype=float32, numpy=1.0>,)"
            ]
          },
          "metadata": {
            "tags": []
          },
          "execution_count": 25
        }
      ]
    },
    {
      "cell_type": "code",
      "metadata": {
        "id": "developing-semiconductor"
      },
      "source": [
        "def nll(x_train,distribution):\n",
        "    return -tf.reduce_mean(distribution.log_prob(x_train))"
      ],
      "id": "developing-semiconductor",
      "execution_count": 26,
      "outputs": []
    },
    {
      "cell_type": "code",
      "metadata": {
        "id": "material-country"
      },
      "source": [
        "#@tf.function\n",
        "def get_loss_and_grads(x_train,distribution):\n",
        "    with tf.GradientTape() as tape:\n",
        "        tape.watch(distribution.trainable_variables)\n",
        "        loss = nll(x_train,distribution)\n",
        "        grads = tape.gradient(loss,distribution.trainable_variables)\n",
        "    return loss, grads"
      ],
      "id": "material-country",
      "execution_count": 27,
      "outputs": []
    },
    {
      "cell_type": "code",
      "metadata": {
        "id": "dynamic-statement"
      },
      "source": [
        "def exponential_dist_optimisation(data, distribution):\n",
        "    train_loss_results = []\n",
        "    train_rate_results = []\n",
        "    optimizer = tf.optimizers.SGD(learning_rate=0.05)\n",
        "    num_steps = 10\n",
        "    \n",
        "    for i in range(num_steps):\n",
        "        loss, grads = get_loss_and_grads(data,distribution)\n",
        "        optimizer.apply_gradients(zip(grads,distribution.trainable_variables))\n",
        "        rate_value = distribution.rate.value()\n",
        "        \n",
        "        train_loss_results.append(loss)\n",
        "        train_rate_results.append(rate_value)\n",
        "        \n",
        "    return train_loss_results,train_rate_results"
      ],
      "id": "dynamic-statement",
      "execution_count": 28,
      "outputs": []
    },
    {
      "cell_type": "code",
      "metadata": {
        "id": "orange-argument"
      },
      "source": [
        "sampled_data = exponential.sample(5000)"
      ],
      "id": "orange-argument",
      "execution_count": 29,
      "outputs": []
    },
    {
      "cell_type": "code",
      "metadata": {
        "id": "antique-tradition"
      },
      "source": [
        "train_loss,train_rates = exponential_dist_optimisation(sampled_data,exp_train)"
      ],
      "id": "antique-tradition",
      "execution_count": 30,
      "outputs": []
    },
    {
      "cell_type": "code",
      "metadata": {
        "colab": {
          "base_uri": "https://localhost:8080/",
          "height": 337
        },
        "id": "three-montgomery",
        "outputId": "4abc5af1-4c6d-4a0c-c826-ce61a4aab29b"
      },
      "source": [
        "f=plt.figure(figsize=(15,5))\n",
        "f.add_subplot(1,2,1)\n",
        "plt.plot(tf.concat(train_loss,0))\n",
        "f.add_subplot(1,2,2)\n",
        "plt.plot(tf.concat(train_rates,0))"
      ],
      "id": "three-montgomery",
      "execution_count": 31,
      "outputs": [
        {
          "output_type": "execute_result",
          "data": {
            "text/plain": [
              "[<matplotlib.lines.Line2D at 0x7f35c3a30f50>]"
            ]
          },
          "metadata": {
            "tags": []
          },
          "execution_count": 31
        },
        {
          "output_type": "display_data",
          "data": {
            "image/png": "[encoded data removed]",
            "text/plain": [
              "<Figure size 1080x360 with 2 Axes>"
            ]
          },
          "metadata": {
            "tags": [],
            "needs_background": "light"
          }
        }
      ]
    },
    {
      "cell_type": "code",
      "metadata": {
        "id": "written-prior"
      },
      "source": [
        "def make_dist_with_GT(data, labels, nb_classes):\n",
        "    class_data=[]\n",
        "    train_vars=[]\n",
        "    distributions=[]\n",
        "    for c in range(nb_classes):\n",
        "        train_vars.append(tf.Variable(initial_value=np.random.uniform(.01,.1,data.shape[-1])))\n",
        "        distributions.append(tfd.Bernoulli(probs=train_vars[c]))\n",
        "        class_mask = (labels == c)\n",
        "        class_data.append(data[class_mask])\n",
        "    for c in range(nb_classes):\n",
        "        optimizer = tf.optimizers.Adam()\n",
        "        for i in range(100):\n",
        "            if (i+1) % 10 ==0:\n",
        "                print('Class {}: Step: {}'.format(c,i+1),end='\\r')\n",
        "            loss,grads = get_loss_and_grads(class_data[c],distributions[c])\n",
        "            optimizer.apply_gradients(zip(grads,distributions[c].trainable_variables))\n",
        "            eta=1e-3\n",
        "            clipped_probs = tf.clip_by_value(distributions[c].trainable_variables,eta,1)\n",
        "            train_vars[c]=tf.squeeze(clipped_probs)\n",
        "            \n",
        "    dist = tfd.Bernoulli(probs=train_vars)\n",
        "    dist = tfd.Independent(dist,reinterpreted_batch_ndims=1)\n",
        "    print(dist)\n",
        "    return dist"
      ],
      "id": "written-prior",
      "execution_count": 32,
      "outputs": []
    },
    {
      "cell_type": "code",
      "metadata": {
        "colab": {
          "base_uri": "https://localhost:8080/"
        },
        "id": "supported-counter",
        "outputId": "63975728-ab5c-4bf0-bffe-b6a2b32ebd30"
      },
      "source": [
        "tf_dist"
      ],
      "id": "supported-counter",
      "execution_count": 33,
      "outputs": [
        {
          "output_type": "execute_result",
          "data": {
            "text/plain": [
              "<tfp.distributions.Independent 'IndependentBernoulli' batch_shape=[4] event_shape=[17495] dtype=int32>"
            ]
          },
          "metadata": {
            "tags": []
          },
          "execution_count": 33
        }
      ]
    },
    {
      "cell_type": "code",
      "metadata": {
        "colab": {
          "base_uri": "https://localhost:8080/"
        },
        "id": "stainless-lesbian",
        "outputId": "4cc6cea9-a45b-431c-f23c-f31483509245"
      },
      "source": [
        "GT_dist = make_dist_with_GT(data=train_data,labels=train_labels,nb_classes=4)"
      ],
      "id": "stainless-lesbian",
      "execution_count": 34,
      "outputs": [
        {
          "output_type": "stream",
          "text": [
            "tfp.distributions.Independent(\"IndependentBernoulli\", batch_shape=[4], event_shape=[17495], dtype=int32)\n"
          ],
          "name": "stdout"
        }
      ]
    },
    {
      "cell_type": "code",
      "metadata": {
        "colab": {
          "base_uri": "https://localhost:8080/"
        },
        "id": "varied-there",
        "outputId": "3f657a9d-2588-463b-8a1a-493023af99cd"
      },
      "source": [
        "for dist in [GT_dist,tf_dist]:\n",
        "    probabilities = []\n",
        "    for sample,label in zip(test_data,test_labels):\n",
        "        probabilities.append(predict_sample(dist,sample,priors))\n",
        "    probabilities = np.array(probabilities)\n",
        "    predited_classes = np.argmax(probabilities,axis=-1)\n",
        "    print('f1',f1_score(test_labels,predited_classes,average='macro'))"
      ],
      "id": "varied-there",
      "execution_count": 35,
      "outputs": [
        {
          "output_type": "stream",
          "text": [
            "f1 0.835719715769969\n",
            "f1 0.7848499112849504\n"
          ],
          "name": "stdout"
        }
      ]
    },
    {
      "cell_type": "code",
      "metadata": {
        "id": "center-providence"
      },
      "source": [
        ""
      ],
      "id": "center-providence",
      "execution_count": 35,
      "outputs": []
    }
  ]
}